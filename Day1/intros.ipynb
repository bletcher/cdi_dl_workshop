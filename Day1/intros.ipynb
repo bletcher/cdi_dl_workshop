{
 "cells": [
  {
   "cell_type": "code",
   "execution_count": null,
   "metadata": {},
   "outputs": [],
   "source": []
  },
  {
   "cell_type": "markdown",
   "metadata": {},
   "source": [
    "Courtney Amundsen: identifying geese in Alaska\n",
    "Sam Arundel: improving labelling in automatically-created topo maps Missouri\n",
    "Holly Beck: geographer, land change trends in LA, remote sensing\n",
    "ANdrew Bock: steam temperature, bathymetry, CO WSC\n",
    "Jenna Brown: coastal change hazards, storm response habitat on islands FL -> DE\n",
    "Ed Bulliner: river studies brach, geomorhpology, sandbar image data, classify substrates, MO\n",
    "Dan Buscombe: data-driven geomorphology, acoustic data to understand substrates and sediment types, AZ\n",
    "Matthew Cashman: river restoration, quantify erosion, dam removal monitoring MD-DE WSC\n",
    "Daniel Ebuna: 3d seismic data, neural network imaging, make analyses data driven Santa Cruz\n",
    "Amy Foxgrover: shoreline analyses, wetland resotration, Santa Cruz\n",
    "John Fulton: surface water specialist, flights CO WSC\n",
    "Amy Galanter: aerial imagery automation NM WCS\n",
    "Kevin Hop: vegetation mapping for NPS, now using drones for imagery Upper Midwest WI\n",
    "Jenny Curtis: geomorph maps, sediment budgets CA WSC\n",
    "Sam Johnstone: network simulation to identify asymetries Mapping CO\n",
    "Carl Legleitet: remote sensing of rivers, bathymetric mapping, estimating surface water velocities, thermal image velocities (particle image velocities) using biols to get velocity vectors, map salmon spawning redds, geomorph Golden CO\n",
    "Ryan Lima: classify sandbars ASU\n",
    "Tracey Mercier: oil and gas resources, energy resources science center\n",
    "Cory Overton: habitat id WERC(CA) USGS\n",
    "Rachel Sleeter: land cover trends, national carbon flows, Reston in Seattle\n",
    "Emily Sturdivant: drone operations, coastal and land cover maps, geographer Woods Hole\n",
    "Colin Talbert: instream flow, habitat modeling in rivers, phonology, FT Collins\n",
    "Tanja Williamson: drainage of fields OH-KY-IN WSC\n",
    "Dalia Varanka: technology in support of the national map, 'formal semantics', center of excellence in GIS \n",
    "Dan Walsh: disease management, USGS national wildlife health center, Madison\n",
    "\n",
    "Zafer Define: wetlands woods hole\n",
    "Roland Viger: chief geo-intelligence branch\n",
    "Corina Cerovski:  landlsides, erosion, geomorphic process mapping, Menlo Park\n",
    "Collin Cronkite-Ratcliff: crespi - machine learning model for impaired streamflow, geostatistical modeling, ,predicting vegetation type from topology/geology Menlo Park\n",
    "Linsay Hunt: landscape connectivity, land use change prediction, GLSC\n",
    "Dave Millar: ecohydrology, bayes, data science Fort Collins\n",
    "Jeremy Fee: earthquake data, seismic phase labelling, Geologic hazards Science Center CO\n",
    "\n",
    "\n",
    "http://pangeo.esipfed.org/user/bletcher/lab#Images"
   ]
  }
 ],
 "metadata": {
  "kernelspec": {
   "display_name": "Python [default]",
   "language": "python",
   "name": "python3"
  },
  "language_info": {
   "codemirror_mode": {
    "name": "ipython",
    "version": 3
   },
   "file_extension": ".py",
   "mimetype": "text/x-python",
   "name": "python",
   "nbconvert_exporter": "python",
   "pygments_lexer": "ipython3",
   "version": "3.6.5"
  }
 },
 "nbformat": 4,
 "nbformat_minor": 2
}
